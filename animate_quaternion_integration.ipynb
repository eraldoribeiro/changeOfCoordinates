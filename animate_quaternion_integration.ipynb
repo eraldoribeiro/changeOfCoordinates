{
 "cells": [
  {
   "cell_type": "code",
   "execution_count": 1,
   "metadata": {
    "collapsed": false,
    "jupyter": {
     "outputs_hidden": false
    }
   },
   "outputs": [],
   "source": [
    "%matplotlib inline"
   ]
  },
  {
   "cell_type": "markdown",
   "metadata": {},
   "source": [
    "\n",
    "# Quaternion Integration\n",
    "\n",
    "Integrate angular accelerations to a quaternion sequence and animate it.\n"
   ]
  },
  {
   "cell_type": "code",
   "execution_count": 2,
   "metadata": {
    "collapsed": false,
    "jupyter": {
     "outputs_hidden": false
    }
   },
   "outputs": [
    {
     "name": "stdout",
     "output_type": "stream",
     "text": [
      "Automatically created module for IPython interactive environment\n"
     ]
    },
    {
     "data": {
      "image/png": "[encoded data removed]",
      "text/plain": [
       "<Figure size 288x216 with 1 Axes>"
      ]
     },
     "metadata": {
      "needs_background": "light"
     },
     "output_type": "display_data"
    }
   ],
   "source": [
    "print(__doc__)\n",
    "\n",
    "\n",
    "import numpy as np\n",
    "import matplotlib.pyplot as plt\n",
    "from mpl_toolkits.mplot3d import axes3d\n",
    "import matplotlib.animation as animation\n",
    "from pytransform3d import rotations as pr\n",
    "\n",
    "\n",
    "def update_lines(step, Q, rot):\n",
    "    R = pr.matrix_from_quaternion(Q[step])\n",
    "\n",
    "    # Draw new frame\n",
    "    rot[0].set_data(np.array([0, R[0, 0]]), [0, R[1, 0]])\n",
    "    rot[0].set_3d_properties([0, R[2, 0]])\n",
    "\n",
    "    rot[1].set_data(np.array([0, R[0, 1]]), [0, R[1, 1]])\n",
    "    rot[1].set_3d_properties([0, R[2, 1]])\n",
    "\n",
    "    rot[2].set_data(np.array([0, R[0, 2]]), [0, R[1, 2]])\n",
    "    rot[2].set_3d_properties([0, R[2, 2]])\n",
    "\n",
    "    return rot\n",
    "\n",
    "\n",
    "if __name__ == \"__main__\":\n",
    "    random_state = np.random.RandomState(3)\n",
    "    start = pr.random_quaternion(random_state)\n",
    "    n_frames = 1000\n",
    "    dt = 0.01\n",
    "    angular_accelerations = np.empty((n_frames, 3))\n",
    "    for i in range(n_frames):\n",
    "        angular_accelerations[i] = pr.random_compact_axis_angle(random_state)\n",
    "    # Integrate angular accelerations to velocities\n",
    "    angular_velocities = np.vstack(\n",
    "        (np.zeros((1, 3)), np.cumsum(angular_accelerations * dt, axis=0)))\n",
    "    # Integrate angular velocities to quaternions\n",
    "    Q = pr.quaternion_integrate(angular_velocities, q0=start, dt=dt)\n",
    "\n",
    "    fig = plt.figure(figsize=(4, 3))\n",
    "\n",
    "    ax = fig.add_subplot(111, projection=\"3d\")\n",
    "    ax.set_xlim((-1, 1))\n",
    "    ax.set_ylim((-1, 1))\n",
    "    ax.set_zlim((-1, 1))\n",
    "    ax.set_xlabel(\"X\")\n",
    "    ax.set_ylabel(\"Y\")\n",
    "    ax.set_zlabel(\"Z\")\n",
    "\n",
    "    R = pr.matrix_from_quaternion(start)\n",
    "\n",
    "    rot = [\n",
    "        ax.plot([0, 1], [0, 0], [0, 0], c=\"r\", lw=3)[0],\n",
    "        ax.plot([0, 0], [0, 1], [0, 0], c=\"g\", lw=3)[0],\n",
    "        ax.plot([0, 0], [0, 0], [0, 1], c=\"b\", lw=3)[0],\n",
    "\n",
    "        ax.plot([0, R[0, 0]], [0, R[1, 0]], [0, R[2, 0]],\n",
    "                c=\"r\", lw=3, alpha=0.3)[0],\n",
    "        ax.plot([0, R[0, 1]], [0, R[1, 1]], [0, R[2, 1]],\n",
    "                c=\"g\", lw=3, alpha=0.3)[0],\n",
    "        ax.plot([0, R[0, 2]], [0, R[1, 2]], [0, R[2, 2]],\n",
    "                c=\"b\", lw=3, alpha=0.3)[0]\n",
    "    ]\n",
    "\n",
    "    anim = animation.FuncAnimation(fig, update_lines, n_frames,\n",
    "                                   fargs=(Q, rot),\n",
    "                                   interval=10, blit=False)\n",
    "\n",
    "    plt.show()"
   ]
  },
  {
   "cell_type": "code",
   "execution_count": null,
   "metadata": {},
   "outputs": [],
   "source": []
  }
 ],
 "metadata": {
  "kernelspec": {
   "display_name": "Python 3",
   "language": "python",
   "name": "python3"
  },
  "language_info": {
   "codemirror_mode": {
    "name": "ipython",
    "version": 3
   },
   "file_extension": ".py",
   "mimetype": "text/x-python",
   "name": "python",
   "nbconvert_exporter": "python",
   "pygments_lexer": "ipython3",
   "version": "3.9.2"
  }
 },
 "nbformat": 4,
 "nbformat_minor": 4
}
