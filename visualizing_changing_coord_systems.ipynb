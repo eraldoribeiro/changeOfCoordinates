{
 "cells": [
  {
   "cell_type": "markdown",
   "id": "human-transportation",
   "metadata": {},
   "source": [
    "# Change of coordinates between two frames\n",
    "\n",
    "This demo shows the solution and some visualization of the assignment on change of coordinate systems between multiple frames. "
   ]
  },
  {
   "cell_type": "code",
   "execution_count": 1,
   "id": "western-niagara",
   "metadata": {},
   "outputs": [],
   "source": [
    "import open3d as o3d\n",
    "import copy\n",
    "import numpy as np"
   ]
  },
  {
   "cell_type": "code",
   "execution_count": null,
   "id": "precious-socket",
   "metadata": {},
   "outputs": [],
   "source": []
  },
  {
   "cell_type": "code",
   "execution_count": 2,
   "id": "sophisticated-roads",
   "metadata": {},
   "outputs": [
    {
     "name": "stdout",
     "output_type": "stream",
     "text": [
      "p_c=\n",
      "[[0. ]\n",
      " [0. ]\n",
      " [0.5]\n",
      " [1. ]]\n"
     ]
    }
   ],
   "source": [
    "# The coordinates of point p w.r.t F{p} are:\n",
    "p_c = np.array([[0.0], \n",
    "               [0.0], \n",
    "               [0.5],\n",
    "               [1.0]])\n",
    "print('p_c=')\n",
    "print(p_c)"
   ]
  },
  {
   "cell_type": "code",
   "execution_count": 3,
   "id": "viral-sussex",
   "metadata": {},
   "outputs": [
    {
     "name": "stdout",
     "output_type": "stream",
     "text": [
      "p_p=\n",
      "[[0. ]\n",
      " [0. ]\n",
      " [0.5]\n",
      " [1. ]]\n"
     ]
    }
   ],
   "source": [
    "# The coordinates of point c w.r.t F{c} are:\n",
    "p_p = np.array([[0.0], \n",
    "               [0.0], \n",
    "               [0.5],\n",
    "               [1.0]])\n",
    "print('p_p=')\n",
    "print(p_p)"
   ]
  },
  {
   "cell_type": "code",
   "execution_count": 4,
   "id": "explicit-junior",
   "metadata": {},
   "outputs": [],
   "source": [
    "# Frame F{p}  (x_p, y_p, z_p)\n",
    "# \n",
    "# We will consider frame p as the global frame, i.e., the canonical frame. \n",
    "# We don't need to build a matrix to represent this frame as its matrix \n",
    "# representation is the 4x4 identity matrix. "
   ]
  },
  {
   "cell_type": "code",
   "execution_count": 5,
   "id": "expired-rhythm",
   "metadata": {},
   "outputs": [
    {
     "name": "stdout",
     "output_type": "stream",
     "text": [
      "T_pc=\n",
      "[[1.  0.  0.  1.5]\n",
      " [0.  1.  0.  1. ]\n",
      " [0.  0.  1.  0.5]\n",
      " [0.  0.  0.  1. ]]\n"
     ]
    }
   ],
   "source": [
    "# Matrix of F{c}, i.e., Transformation from F{c} to F{p}\n",
    "T_pc = np.array([[1.0, 0.0, 0.0, 1.5], \n",
    "               [0.0, 1.0, 0.0, 1.0],\n",
    "               [0.0, 0.0, 1.0, 0.5],\n",
    "               [0.0, 0.0, 0.0, 1.0],\n",
    "              ])\n",
    "print('T_pc=')\n",
    "print(T_pc)"
   ]
  },
  {
   "cell_type": "code",
   "execution_count": 6,
   "id": "little-ensemble",
   "metadata": {},
   "outputs": [
    {
     "name": "stdout",
     "output_type": "stream",
     "text": [
      "pc_inFrame_p=\n",
      "[[1.5]\n",
      " [1. ]\n",
      " [1. ]\n",
      " [1. ]]\n"
     ]
    }
   ],
   "source": [
    "# The following are the coordinates of point c written w.r.t. frame F{p}\n",
    "pc_inFrame_p = T_pc @ p_c\n",
    "print('pc_inFrame_p=')\n",
    "print(pc_inFrame_p)"
   ]
  },
  {
   "cell_type": "code",
   "execution_count": 7,
   "id": "talented-sphere",
   "metadata": {},
   "outputs": [
    {
     "name": "stdout",
     "output_type": "stream",
     "text": [
      "pp_inFrame_c=\n",
      "[[-1.5]\n",
      " [-1. ]\n",
      " [ 0. ]\n",
      " [ 1. ]]\n"
     ]
    }
   ],
   "source": [
    "# And these are coordinates of point p written w.r.t. frame F{c}\n",
    "T_cp = np.linalg.inv(T_pc)   # inverse, i.e., converts from frame F{p} to frame F{c}\n",
    "\n",
    "pp_inFrame_c = T_cp @ p_p\n",
    "print('pp_inFrame_c=')\n",
    "print(pp_inFrame_c)"
   ]
  },
  {
   "cell_type": "markdown",
   "id": "monthly-closing",
   "metadata": {},
   "source": [
    "The following code shows a visualization of the two frames. "
   ]
  },
  {
   "cell_type": "code",
   "execution_count": 8,
   "id": "stock-optics",
   "metadata": {},
   "outputs": [
    {
     "name": "stdout",
     "output_type": "stream",
     "text": [
      "[[1.5]\n",
      " [1. ]\n",
      " [1. ]\n",
      " [1. ]]\n"
     ]
    }
   ],
   "source": [
    "# Create the graphical global coordinate frame\n",
    "frame0_mesh = o3d.geometry.TriangleMesh.create_coordinate_frame()\n",
    "\n",
    "# Mesh for frame F{c}\n",
    "frame1_mesh = copy.deepcopy(frame0_mesh).transform(T_pc)\n",
    "\n",
    "# Create a small sphere to visualize 3-D points \n",
    "mesh_sphere_c = o3d.geometry.TriangleMesh.create_sphere(radius=0.05)\n",
    "mesh_sphere_c.compute_vertex_normals()\n",
    "mesh_sphere_c.paint_uniform_color([0.7, 0.0, 0.7])\n",
    "\n",
    "# Create a small sphere to visualize 3-D points \n",
    "mesh_sphere_p = o3d.geometry.TriangleMesh.create_sphere(radius=0.05)\n",
    "mesh_sphere_p.compute_vertex_normals()\n",
    "mesh_sphere_p.paint_uniform_color([0.5, 0.5, 0.0])\n",
    "\n",
    "# Translate sphere to point location \n",
    "mesh_sphere_p.translate(p_p[:3])\n",
    "\n",
    "p_c_global = T_pc @ p_c\n",
    "print(p_c_global)\n",
    "\n",
    "mesh_sphere_c.translate(p_c_global[:3])\n",
    "\n",
    "\n",
    "o3d.visualization.draw_geometries([frame0_mesh, frame1_mesh, mesh_sphere_p, mesh_sphere_c])"
   ]
  },
  {
   "cell_type": "code",
   "execution_count": null,
   "id": "turkish-puzzle",
   "metadata": {},
   "outputs": [],
   "source": []
  },
  {
   "cell_type": "code",
   "execution_count": null,
   "id": "sophisticated-nation",
   "metadata": {},
   "outputs": [],
   "source": []
  },
  {
   "cell_type": "code",
   "execution_count": null,
   "id": "fatty-baseline",
   "metadata": {},
   "outputs": [],
   "source": []
  }
 ],
 "metadata": {
  "kernelspec": {
   "display_name": "Python 3",
   "language": "python",
   "name": "python3"
  },
  "language_info": {
   "codemirror_mode": {
    "name": "ipython",
    "version": 3
   },
   "file_extension": ".py",
   "mimetype": "text/x-python",
   "name": "python",
   "nbconvert_exporter": "python",
   "pygments_lexer": "ipython3",
   "version": "3.9.2"
  }
 },
 "nbformat": 4,
 "nbformat_minor": 5
}
