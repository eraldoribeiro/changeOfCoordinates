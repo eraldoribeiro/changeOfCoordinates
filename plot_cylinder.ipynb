{
 "cells": [
  {
   "cell_type": "code",
   "execution_count": 1,
   "metadata": {
    "collapsed": false,
    "jupyter": {
     "outputs_hidden": false
    }
   },
   "outputs": [],
   "source": [
    "#%matplotlib inline"
   ]
  },
  {
   "cell_type": "markdown",
   "metadata": {},
   "source": [
    "\n",
    "# Plot Transformed Cylinders\n",
    "\n",
    "Plots surfaces of transformed cylindrical shells.\n"
   ]
  },
  {
   "cell_type": "code",
   "execution_count": 77,
   "metadata": {
    "collapsed": false,
    "jupyter": {
     "outputs_hidden": false
    }
   },
   "outputs": [
    {
     "name": "stdout",
     "output_type": "stream",
     "text": [
      "Automatically created module for IPython interactive environment\n"
     ]
    }
   ],
   "source": [
    "print(__doc__)\n",
    "\n",
    "import numpy as np\n",
    "import matplotlib.pyplot as plt\n",
    "from pytransform3d.transformations import transform_from, plot_transform\n",
    "from pytransform3d.rotations import random_axis_angle, matrix_from_axis_angle\n",
    "from pytransform3d.plot_utils import plot_cylinder, remove_frame"
   ]
  },
  {
   "cell_type": "code",
   "execution_count": 78,
   "metadata": {},
   "outputs": [
    {
     "name": "stdout",
     "output_type": "stream",
     "text": [
      "\n",
      "\n",
      "R_pc =  [[1. 0. 0.]\n",
      "         [0. 1. 0.]\n",
      "         [0. 0. 1.]]\n",
      "\n",
      "\n",
      "t_pc =  [[1.5]\n",
      "         [1. ]\n",
      "         [0.5]]\n"
     ]
    }
   ],
   "source": [
    "# Rotation \n",
    "R_pc = np.eye(3,3)\n",
    "print('\\n')\n",
    "print('R_pc = ', np.array2string(R_pc, prefix='Array:  '))\n",
    "# Translation \n",
    "t_pc = np.array([[1.5],[1],[1/2]]) \n",
    "print('\\n')\n",
    "print('t_pc = ', np.array2string(t_pc, prefix='Array:  '))"
   ]
  },
  {
   "cell_type": "code",
   "execution_count": 79,
   "metadata": {},
   "outputs": [
    {
     "name": "stdout",
     "output_type": "stream",
     "text": [
      "T_pc =  [[1.  0.  0.  1.5]\n",
      "         [0.  1.  0.  1. ]\n",
      "         [0.  0.  1.  0.5]\n",
      "         [0.  0.  0.  1. ]]\n"
     ]
    }
   ],
   "source": [
    "T_pc = np.block([[R_pc,                     t_pc],\n",
    "                [np.zeros((1, 3)),             1]])\n",
    "print('T_pc = ', np.array2string(T_pc, prefix='Array:  '))"
   ]
  },
  {
   "cell_type": "code",
   "execution_count": null,
   "metadata": {},
   "outputs": [],
   "source": []
  },
  {
   "cell_type": "code",
   "execution_count": null,
   "metadata": {},
   "outputs": [],
   "source": []
  },
  {
   "cell_type": "code",
   "execution_count": 80,
   "metadata": {
    "collapsed": false,
    "jupyter": {
     "outputs_hidden": false
    }
   },
   "outputs": [
    {
     "data": {
      "image/png": "[encoded data removed]",
      "text/plain": [
       "<Figure size 432x288 with 1 Axes>"
      ]
     },
     "metadata": {
      "needs_background": "light"
     },
     "output_type": "display_data"
    }
   ],
   "source": [
    "ax = make_3d_axis(ax_s=1)\n",
    "\n",
    "plot_transform(ax=ax, A2B = np.eye(4), s=1, lw=3)\n",
    "\n",
    "plot_transform(ax=ax, A2B = T_pc, s=1, lw=3)\n",
    "\n",
    "\n",
    "#plot_transform(ax=ax, A2B=A2B, s=0.3, lw=3)\n",
    "ax.set_xlim((-2, 2))\n",
    "ax.set_ylim((-1, 2))\n",
    "ax.set_zlim((-2, 2))\n",
    "plt.show()"
   ]
  },
  {
   "cell_type": "code",
   "execution_count": null,
   "metadata": {},
   "outputs": [],
   "source": []
  },
  {
   "cell_type": "code",
   "execution_count": null,
   "metadata": {},
   "outputs": [],
   "source": []
  },
  {
   "cell_type": "code",
   "execution_count": 46,
   "metadata": {},
   "outputs": [
    {
     "ename": "SyntaxError",
     "evalue": "positional argument follows keyword argument (<ipython-input-46-4a27b503b426>, line 9)",
     "output_type": "error",
     "traceback": [
      "\u001b[0;36m  File \u001b[0;32m\"<ipython-input-46-4a27b503b426>\"\u001b[0;36m, line \u001b[0;32m9\u001b[0m\n\u001b[0;31m    plot_transform(ax=ax, np.eye(4))\u001b[0m\n\u001b[0m                                   ^\u001b[0m\n\u001b[0;31mSyntaxError\u001b[0m\u001b[0;31m:\u001b[0m positional argument follows keyword argument\n"
     ]
    }
   ],
   "source": [
    "import matplotlib.pyplot as plt\n",
    "from pytransform3d.transformations import plot_transform\n",
    "from pytransform3d.plot_utils import make_3d_axis\n",
    "\n",
    "ax = make_3d_axis(ax_s=1, n_ticks=6)\n",
    "\n",
    "\n",
    "\n",
    "plot_transform(ax=ax, np.eye(4))\n",
    "\n",
    "\n",
    "\n",
    "plt.tight_layout()\n",
    "plt.show()"
   ]
  },
  {
   "cell_type": "code",
   "execution_count": 31,
   "metadata": {},
   "outputs": [],
   "source": [
    "plot_transform(ax, T_pc, s=1, lw=4)\n",
    "plt.show()"
   ]
  },
  {
   "cell_type": "code",
   "execution_count": null,
   "metadata": {},
   "outputs": [],
   "source": []
  }
 ],
 "metadata": {
  "kernelspec": {
   "display_name": "Python 3",
   "language": "python",
   "name": "python3"
  },
  "language_info": {
   "codemirror_mode": {
    "name": "ipython",
    "version": 3
   },
   "file_extension": ".py",
   "mimetype": "text/x-python",
   "name": "python",
   "nbconvert_exporter": "python",
   "pygments_lexer": "ipython3",
   "version": "3.9.2"
  }
 },
 "nbformat": 4,
 "nbformat_minor": 4
}
