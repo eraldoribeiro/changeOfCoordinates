{
 "cells": [
  {
   "cell_type": "code",
   "execution_count": 3,
   "id": "adverse-preliminary",
   "metadata": {},
   "outputs": [
    {
     "name": "stdout",
     "output_type": "stream",
     "text": [
      "(0, 1) (0, 1) (2, 4) (4, 2)\n"
     ]
    }
   ],
   "source": [
    "import numpy as np\n",
    "import matplotlib.pyplot as plt\n",
    "\n",
    "v = [2,4]\n",
    "w = [4,2]\n",
    "\n",
    "array = np.array([[0, 0, v[0], v[1]], \n",
    "                  [1, 1, w[0], w[1]]])\n",
    "\n",
    "X, Y, V, W = zip(*array)\n",
    "print (X, Y, V, W)"
   ]
  },
  {
   "cell_type": "code",
   "execution_count": 8,
   "id": "constitutional-reception",
   "metadata": {},
   "outputs": [
    {
     "data": {
      "image/png": "[encoded data removed]",
      "text/plain": [
       "<Figure size 432x288 with 1 Axes>"
      ]
     },
     "metadata": {
      "needs_background": "light"
     },
     "output_type": "display_data"
    }
   ],
   "source": [
    "plt.figure()\n",
    "plt.ylabel('Y-axis')\n",
    "plt.xlabel('X-axis')\n",
    "ax = plt.gca()\n",
    "ax.annotate(f'v({v[0]},{v[1]})', (v[0],v[1]),fontsize=14)\n",
    "plt.scatter(v[0],v[1], s=10,c='red')\n",
    "ax.annotate(f'w({w[0]},{w[1]})', (w[0],w[1]),fontsize=14)\n",
    "plt.scatter(w[0], w[1], s=10,c='blue')\n",
    "ax.quiver(X, Y, V, W, angles='xy', scale_units='xy',color=['r','b'],scale=1)\n",
    "ax.set_xlim([0, 10])\n",
    "ax.set_ylim([0, 10])\n",
    "\n",
    "plt.grid()\n",
    "plt.draw()\n",
    "plt.show()"
   ]
  },
  {
   "cell_type": "code",
   "execution_count": 73,
   "id": "educated-injection",
   "metadata": {},
   "outputs": [
    {
     "name": "stdout",
     "output_type": "stream",
     "text": [
      "p_c =  [[0. ]\n",
      "        [0. ]\n",
      "        [0.5]\n",
      "        [1. ]]\n",
      "\n",
      "\n",
      "p_p =  [[0. ]\n",
      "        [0. ]\n",
      "        [0.5]\n",
      "        [1. ]]\n"
     ]
    }
   ],
   "source": [
    "p_c = np.array([[0],[0],[1/2],[1]]) \n",
    "print('p_c = ', np.array2string(p_c, prefix='Array: '))\n",
    "\n",
    "print('\\n')\n",
    "\n",
    "p_p = np.array([[0],[0],[1/2],[1]]) \n",
    "print('p_p = ', np.array2string(p_p, prefix='Array: '))"
   ]
  },
  {
   "cell_type": "code",
   "execution_count": 74,
   "id": "mighty-answer",
   "metadata": {},
   "outputs": [
    {
     "name": "stdout",
     "output_type": "stream",
     "text": [
      "\n",
      "\n",
      "R_pc =  [[1. 0. 0.]\n",
      "         [0. 1. 0.]\n",
      "         [0. 0. 1.]]\n",
      "\n",
      "\n",
      "t_pc =  [[1.5]\n",
      "         [1. ]\n",
      "         [0.5]]\n"
     ]
    }
   ],
   "source": [
    "# Rotation \n",
    "R_pc = np.eye(3,3)\n",
    "print('\\n')\n",
    "print('R_pc = ', np.array2string(R_pc, prefix='Array:  '))\n",
    "# Translation \n",
    "t_pc = np.array([[1.5],[1],[1/2]]) \n",
    "print('\\n')\n",
    "print('t_pc = ', np.array2string(t_pc, prefix='Array:  '))"
   ]
  },
  {
   "cell_type": "code",
   "execution_count": 75,
   "id": "qualified-burton",
   "metadata": {},
   "outputs": [
    {
     "name": "stdout",
     "output_type": "stream",
     "text": [
      "T_pc =  [[1.  0.  0.  1.5]\n",
      "         [0.  1.  0.  1. ]\n",
      "         [0.  0.  1.  0.5]\n",
      "         [0.  0.  0.  1. ]]\n"
     ]
    }
   ],
   "source": [
    "T_pc = np.block([[R_pc,                     t_pc],\n",
    "                [np.zeros((1, 3)),             1]])\n",
    "print('T_pc = ', np.array2string(T_pc, prefix='Array:  '))"
   ]
  },
  {
   "cell_type": "code",
   "execution_count": 60,
   "id": "public-signal",
   "metadata": {},
   "outputs": [
    {
     "name": "stdout",
     "output_type": "stream",
     "text": [
      "T_cp =  [[ 1.   0.   0.  -1.5]\n",
      "         [ 0.   1.   0.  -1. ]\n",
      "         [ 0.   0.   1.  -0.5]\n",
      "         [ 0.   0.   0.   1. ]]\n"
     ]
    }
   ],
   "source": [
    "T_cp = np.linalg.inv(T_pc)\n",
    "print('T_cp = ', np.array2string(T_cp, prefix='Array:  '))"
   ]
  },
  {
   "cell_type": "code",
   "execution_count": 77,
   "id": "documentary-construction",
   "metadata": {},
   "outputs": [
    {
     "name": "stdout",
     "output_type": "stream",
     "text": [
      "p_c w.r.t. F{p} = \n",
      " [[1.5]\n",
      "  [1. ]\n",
      "  [1. ]\n",
      "  [1. ]]\n"
     ]
    }
   ],
   "source": [
    "# p_c w.r.t. F{p}\n",
    "p_pc = T_pc @ p_c\n",
    "print('p_c w.r.t. F{p} = \\n', np.array2string(p_pc, prefix=' '))"
   ]
  },
  {
   "cell_type": "code",
   "execution_count": 78,
   "id": "major-import",
   "metadata": {},
   "outputs": [
    {
     "name": "stdout",
     "output_type": "stream",
     "text": [
      "p_p w.r.t. F{c} = \n",
      " [[-1.5]\n",
      "  [-1. ]\n",
      "  [ 0. ]\n",
      "  [ 1. ]]\n"
     ]
    }
   ],
   "source": [
    "# p_p w.r.t. F{c}\n",
    "p_cp = T_cp @ p_p\n",
    "print('p_p w.r.t. F{c} = \\n', np.array2string(p_cp, prefix=' '))"
   ]
  },
  {
   "cell_type": "code",
   "execution_count": 103,
   "id": "creative-colonial",
   "metadata": {},
   "outputs": [
    {
     "name": "stdout",
     "output_type": "stream",
     "text": [
      "\n",
      "Rotation sbout the x-axis:\n",
      "\n",
      "Ry = \n",
      " [[ 1.          0.          0.          0.        ]\n",
      "  [ 0.          0.70710678  0.70710678  0.        ]\n",
      "  [ 0.         -0.70710678  0.70710678  0.        ]\n",
      "  [ 0.          0.          0.          1.        ]]\n"
     ]
    }
   ],
   "source": [
    "# Rotate p_c by -45 degrees about the x-axis w.r.t. F{c}\n",
    "theta = - np.pi/4;\n",
    "\n",
    "Ry = np.array([[ 1,  0,              0             , 0],\n",
    "               [ 0,  np.cos(theta),  -np.sin(theta), 0],\n",
    "               [ 0,  np.sin(theta),  np.cos(theta) , 0],\n",
    "               [ 0,  0,              0,              1]])\n",
    "\n",
    "\n",
    "print('\\nRotation sbout the x-axis:\\n') \n",
    "print('Ry = \\n', np.array2string(Ry, prefix=' '))\n"
   ]
  },
  {
   "cell_type": "code",
   "execution_count": 108,
   "id": "preliminary-demand",
   "metadata": {},
   "outputs": [
    {
     "name": "stdout",
     "output_type": "stream",
     "text": [
      "p_c rotated = \n",
      " [[0.        ]\n",
      "  [0.35355339]\n",
      "  [0.35355339]\n",
      "  [1.        ]]\n"
     ]
    }
   ],
   "source": [
    "# p_c rotated by -45 degrees about the x-axis w.r.t. F{c}\n",
    "p_c_rotated = Ry @ p_c\n",
    "print('p_c rotated = \\n', np.array2string(p_c_rotated, prefix=' '))"
   ]
  },
  {
   "cell_type": "code",
   "execution_count": 109,
   "id": "copyrighted-showcase",
   "metadata": {},
   "outputs": [
    {
     "name": "stdout",
     "output_type": "stream",
     "text": [
      "p_c rotated w.r.t. F{p}= \n",
      " [[1.5       ]\n",
      "  [1.35355339]\n",
      "  [0.85355339]\n",
      "  [1.        ]]\n"
     ]
    }
   ],
   "source": [
    "# The same rotated point now represented w.r.t. F{p}\n",
    "p_c_rotated_p = T_pc @ (Ry @ p_c)\n",
    "print('p_c rotated w.r.t. F{p}= \\n', np.array2string(p_c_rotated_p, prefix=' '))"
   ]
  },
  {
   "cell_type": "code",
   "execution_count": null,
   "id": "demographic-smell",
   "metadata": {},
   "outputs": [],
   "source": []
  },
  {
   "cell_type": "code",
   "execution_count": 113,
   "id": "static-surge",
   "metadata": {},
   "outputs": [],
   "source": [
    "# Example from https://towardsdatascience.com/the-one-stop-guide-for-transformation-matrices-cea8f609bdb1\n",
    "import numpy as np\n",
    "import matplotlib.pyplot as plt\n",
    "from pytransform3d.plot_utils import make_3d_axis\n",
    "from pytransform3d.transform_manager import TransformManager\n",
    "from scipy.spatial.transform import Rotation"
   ]
  },
  {
   "cell_type": "code",
   "execution_count": 114,
   "id": "moving-corpus",
   "metadata": {},
   "outputs": [
    {
     "name": "stdout",
     "output_type": "stream",
     "text": [
      "TB2A= \n",
      " [[ 0.70710678  0.70710678  0.          1.        ]\n",
      "  [-0.1830127   0.1830127  -0.96592583  5.        ]\n",
      "  [-0.6830127   0.6830127   0.25881905  3.        ]\n",
      "  [ 0.          0.          0.          1.        ]]\n"
     ]
    }
   ],
   "source": [
    "TB2A = np.eye(4)\n",
    "R = Rotation.from_euler(\"XYZ\",[75,0,-45], degrees=True).as_matrix()\n",
    "TB2A[:3,:3] = R\n",
    "TB2A[:3,3] = np.array([1,5,3])\n",
    "print('TB2A= \\n', np.array2string(TB2A, prefix=' '))\n",
    "\n",
    "\n",
    "TA2B = np.linalg.inv(TB2A)\n",
    "\n",
    "TD2A = np.eye(4)\n",
    "R = Rotation.from_euler(\"XYZ\",[-2,-90,-45], degrees=True).as_matrix()\n",
    "TD2A[:3,:3] = R\n",
    "TD2A[:3,3] = np.array([2,-5,2])\n",
    "TA2D = np.linalg.inv(TD2A)\n",
    "\n",
    "TC2B = np.eye(4)\n",
    "R = Rotation.from_euler(\"XYZ\",[45,45,0], degrees=True).as_matrix()\n",
    "TC2B[:3,:3] = R\n",
    "TC2B[:3,3] = np.array([1,2,3])\n",
    "TB2C = np.linalg.inv(TC2B)\n",
    "\n",
    "# Define few points from different frames to frame A\n",
    "origin_c_in_a = TB2A@TC2B@np.array([0,0,0,1]).reshape(4,1)\n",
    "point_P_c_in_a = TB2A @ TC2B @ np.array([2,0,0,1]).reshape(4,1)\n",
    "origin_d_in_a = TD2A @ np.array([0,0,0,1]).reshape(4,1)\n",
    "\n",
    "# Define few points from different frames to frame B\n",
    "origin_a_in_b = TA2B@np.array([0,0,0,1]).reshape(4,1)\n",
    "origin_c_in_b = TC2B@np.array([0,0,0,1]).reshape(4,1)\n",
    "origin_d_in_b = TA2B@TD2A@np.array([0,0,0,1]).reshape(4,1)\n",
    "point_P_c_in_b = TC2B @ np.array([2,0,0,1]).reshape(4,1)"
   ]
  },
  {
   "cell_type": "code",
   "execution_count": 112,
   "id": "infrared-adoption",
   "metadata": {},
   "outputs": [
    {
     "data": {
      "image/png": "[encoded data removed]",
      "text/plain": [
       "<Figure size 576x864 with 2 Axes>"
      ]
     },
     "metadata": {
      "needs_background": "light"
     },
     "output_type": "display_data"
    }
   ],
   "source": [
    "tm = TransformManager()\n",
    "tm.add_transform(\"A\", \"B\", TA2B)\n",
    "tm.add_transform(\"B\",\"C\",TB2C)\n",
    "tm.add_transform(\"A\", \"D\", TA2D)\n",
    "\n",
    "plt.figure(figsize=(8, 12))\n",
    "\n",
    "ax = make_3d_axis(6, 211)\n",
    "ax = tm.plot_frames_in(\"B\", ax=ax, s=3)\n",
    "ax.plot(*origin_a_in_b[:3],\"rx\")\n",
    "ax.plot(*origin_c_in_b[:3],\"bx\")\n",
    "ax.plot(*origin_d_in_b[:3],\"yx\")\n",
    "ax.plot(*point_P_c_in_b[:3],\"gx\")\n",
    "ax.view_init(30, 20)\n",
    "\n",
    "ax = make_3d_axis(6, 212)\n",
    "ax = tm.plot_frames_in(\"A\", ax=ax,s=3)\n",
    "ax.plot(*(1,5,3), \"yx\")\n",
    "ax.plot(*origin_c_in_a[:3], \"rx\")\n",
    "ax.plot(*point_P_c_in_a[:3], \"gx\")\n",
    "ax.plot(*origin_d_in_a[:3],\"bx\")\n",
    "ax.view_init(30, 20)\n",
    "plt.show()"
   ]
  },
  {
   "cell_type": "code",
   "execution_count": 60,
   "id": "satisfied-package",
   "metadata": {},
   "outputs": [
    {
     "data": {
      "text/plain": [
       "array([[ 0.70710678, -0.70710678,  0.        ],\n",
       "       [ 0.70710678,  0.70710678,  0.        ],\n",
       "       [ 0.        ,  0.        ,  1.        ]])"
      ]
     },
     "execution_count": 60,
     "metadata": {},
     "output_type": "execute_result"
    }
   ],
   "source": [
    "theta = np.pi/4;\n",
    "\n",
    "R_theta = np.array([[np.sin(theta),  -np.cos(theta), 0 ],\n",
    "          [np.cos(theta),   np.sin(theta), 0 ],\n",
    "          [ 0,               0,             1]])\n",
    "R_theta"
   ]
  },
  {
   "cell_type": "code",
   "execution_count": 61,
   "id": "soviet-stocks",
   "metadata": {},
   "outputs": [
    {
     "data": {
      "text/plain": [
       "array([[ 0.8660254, -0.5      ,  0.       ],\n",
       "       [ 0.5      ,  0.8660254,  0.       ],\n",
       "       [ 0.       ,  0.       ,  1.       ]])"
      ]
     },
     "execution_count": 61,
     "metadata": {},
     "output_type": "execute_result"
    }
   ],
   "source": [
    "phi = np.pi/3;\n",
    "\n",
    "R_phi = np.array([[np.sin(phi),  -np.cos(phi), 0 ],\n",
    "          [np.cos(phi),   np.sin(phi), 0 ],\n",
    "          [ 0,               0,             1]])\n",
    "R_phi"
   ]
  },
  {
   "cell_type": "code",
   "execution_count": 62,
   "id": "technical-wholesale",
   "metadata": {},
   "outputs": [
    {
     "name": "stdout",
     "output_type": "stream",
     "text": [
      "[[1 0 8]\n",
      " [0 1 9]\n",
      " [0 0 1]]\n"
     ]
    }
   ],
   "source": [
    "T_01 = np.array([[1,  0, 8 ],\n",
    "                 [0,  1, 9 ],\n",
    "                 [0,  0, 1 ]])\n",
    "print(T_01)\n"
   ]
  },
  {
   "cell_type": "code",
   "execution_count": 63,
   "id": "standard-class",
   "metadata": {},
   "outputs": [
    {
     "name": "stdout",
     "output_type": "stream",
     "text": [
      "[[ 1  0 18]\n",
      " [ 0  1  9]\n",
      " [ 0  0  1]]\n"
     ]
    }
   ],
   "source": [
    "T_02 = np.array([[1,  0, 18 ],\n",
    "                 [0,  1, 9 ],\n",
    "                 [0,  0, 1 ]])\n",
    "\n",
    "print(T_02)"
   ]
  },
  {
   "cell_type": "code",
   "execution_count": 64,
   "id": "dependent-garbage",
   "metadata": {},
   "outputs": [
    {
     "data": {
      "text/plain": [
       "array([[5],\n",
       "       [0],\n",
       "       [1]])"
      ]
     },
     "execution_count": 64,
     "metadata": {},
     "output_type": "execute_result"
    }
   ],
   "source": [
    "p_1 = np.array([[5],\n",
    "                [0],\n",
    "                [1]])\n",
    "p_1"
   ]
  },
  {
   "cell_type": "code",
   "execution_count": 65,
   "id": "modified-flood",
   "metadata": {},
   "outputs": [
    {
     "data": {
      "text/plain": [
       "array([[2],\n",
       "       [0],\n",
       "       [1]])"
      ]
     },
     "execution_count": 65,
     "metadata": {},
     "output_type": "execute_result"
    }
   ],
   "source": [
    "q_2 = np.array([[2],\n",
    "                [0],\n",
    "                [1]])\n",
    "q_2"
   ]
  },
  {
   "cell_type": "code",
   "execution_count": 66,
   "id": "opening-lying",
   "metadata": {},
   "outputs": [
    {
     "data": {
      "text/plain": [
       "array([[11.53553391],\n",
       "       [12.53553391],\n",
       "       [ 1.        ]])"
      ]
     },
     "execution_count": 66,
     "metadata": {},
     "output_type": "execute_result"
    }
   ],
   "source": [
    "p_0 =  T_01 @ R_theta @ p_1\n",
    "p_0"
   ]
  },
  {
   "cell_type": "code",
   "execution_count": 67,
   "id": "honey-district",
   "metadata": {},
   "outputs": [
    {
     "data": {
      "text/plain": [
       "array([[19.73205081],\n",
       "       [10.        ],\n",
       "       [ 1.        ]])"
      ]
     },
     "execution_count": 67,
     "metadata": {},
     "output_type": "execute_result"
    }
   ],
   "source": [
    "q_0 =  T_02 @ R_phi @ q_2\n",
    "q_0"
   ]
  },
  {
   "cell_type": "code",
   "execution_count": 69,
   "id": "infrared-belarus",
   "metadata": {},
   "outputs": [
    {
     "data": {
      "text/plain": [
       "array([[1.73205081],\n",
       "       [1.        ],\n",
       "       [1.        ]])"
      ]
     },
     "execution_count": 69,
     "metadata": {},
     "output_type": "execute_result"
    }
   ],
   "source": [
    "R_phi @ q_2\n"
   ]
  },
  {
   "cell_type": "code",
   "execution_count": 70,
   "id": "willing-activation",
   "metadata": {},
   "outputs": [
    {
     "data": {
      "text/plain": [
       "array([[19.73205081],\n",
       "       [10.        ],\n",
       "       [ 1.        ]])"
      ]
     },
     "execution_count": 70,
     "metadata": {},
     "output_type": "execute_result"
    }
   ],
   "source": [
    "T_02 @ R_phi @ q_2\n"
   ]
  },
  {
   "cell_type": "code",
   "execution_count": null,
   "id": "another-advertiser",
   "metadata": {},
   "outputs": [],
   "source": []
  }
 ],
 "metadata": {
  "kernelspec": {
   "display_name": "Python 3",
   "language": "python",
   "name": "python3"
  },
  "language_info": {
   "codemirror_mode": {
    "name": "ipython",
    "version": 3
   },
   "file_extension": ".py",
   "mimetype": "text/x-python",
   "name": "python",
   "nbconvert_exporter": "python",
   "pygments_lexer": "ipython3",
   "version": "3.9.2"
  }
 },
 "nbformat": 4,
 "nbformat_minor": 5
}
